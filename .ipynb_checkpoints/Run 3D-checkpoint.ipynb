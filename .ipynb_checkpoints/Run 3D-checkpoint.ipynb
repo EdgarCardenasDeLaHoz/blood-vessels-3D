{
 "cells": [
  {
   "cell_type": "code",
   "execution_count": 71,
   "metadata": {},
   "outputs": [],
   "source": [
    "from vessels import *"
   ]
  },
  {
   "cell_type": "code",
   "execution_count": 70,
   "metadata": {},
   "outputs": [
    {
     "name": "stdout",
     "output_type": "stream",
     "text": [
      "The line_profiler extension is already loaded. To reload it, use:\n",
      "  %reload_ext line_profiler\n",
      "The autoreload extension is already loaded. To reload it, use:\n",
      "  %reload_ext autoreload\n"
     ]
    }
   ],
   "source": [
    "%load_ext line_profiler\n",
    "%load_ext autoreload\n",
    "%autoreload 2"
   ]
  },
  {
   "cell_type": "markdown",
   "metadata": {},
   "source": [
    "## Blood Vessels"
   ]
  },
  {
   "cell_type": "code",
   "execution_count": 72,
   "metadata": {},
   "outputs": [],
   "source": [
    "import os\n",
    "import glob\n",
    "import pandas as pd\n",
    "import skan\n",
    "\n",
    "from scipy import ndimage as ndi\n",
    "from skimage import morphology\n",
    "import matplotlib.pyplot as plt"
   ]
  },
  {
   "cell_type": "code",
   "execution_count": null,
   "metadata": {},
   "outputs": [],
   "source": []
  },
  {
   "cell_type": "code",
   "execution_count": 73,
   "metadata": {},
   "outputs": [],
   "source": [
    "\n",
    "path = \"..\\\\data\\\\blood vessels\\\\\"\n",
    "plt.close(\"all\")\n",
    "fns = glob.glob(path + \"*.tif\")"
   ]
  },
  {
   "cell_type": "code",
   "execution_count": null,
   "metadata": {},
   "outputs": [],
   "source": []
  },
  {
   "cell_type": "code",
   "execution_count": null,
   "metadata": {},
   "outputs": [],
   "source": []
  },
  {
   "cell_type": "code",
   "execution_count": 83,
   "metadata": {},
   "outputs": [
    {
     "name": "stdout",
     "output_type": "stream",
     "text": [
      "..\\data\\blood vessels\\201007_RECA1_100um.lif - 201007_1391_ctrl plac_stack35um_001.tif\n",
      "Index(['skeleton-id', 'node-id-src', 'node-id-dst', 'branch-distance',\n",
      "       'branch-type', 'mean-pixel-value', 'stdev-pixel-value',\n",
      "       'image-coord-src-0', 'image-coord-src-1', 'image-coord-src-2',\n",
      "       'image-coord-dst-0', 'image-coord-dst-1', 'image-coord-dst-2',\n",
      "       'coord-src-0', 'coord-src-1', 'coord-src-2', 'coord-dst-0',\n",
      "       'coord-dst-1', 'coord-dst-2', 'euclidean-distance', 'tortuosity'],\n",
      "      dtype='object')\n",
      "..\\data\\blood vessels\\201007_RECA1_100um.lif - 201007_1391_ctrl plac_stack35um_002.tif\n",
      "Index(['skeleton-id', 'node-id-src', 'node-id-dst', 'branch-distance',\n",
      "       'branch-type', 'mean-pixel-value', 'stdev-pixel-value',\n",
      "       'image-coord-src-0', 'image-coord-src-1', 'image-coord-src-2',\n",
      "       'image-coord-dst-0', 'image-coord-dst-1', 'image-coord-dst-2',\n",
      "       'coord-src-0', 'coord-src-1', 'coord-src-2', 'coord-dst-0',\n",
      "       'coord-dst-1', 'coord-dst-2', 'euclidean-distance', 'tortuosity'],\n",
      "      dtype='object')\n",
      "..\\data\\blood vessels\\201007_RECA1_100um.lif - 201007_1391_ctrl plac_stack35um_003.tif\n",
      "Index(['skeleton-id', 'node-id-src', 'node-id-dst', 'branch-distance',\n",
      "       'branch-type', 'mean-pixel-value', 'stdev-pixel-value',\n",
      "       'image-coord-src-0', 'image-coord-src-1', 'image-coord-src-2',\n",
      "       'image-coord-dst-0', 'image-coord-dst-1', 'image-coord-dst-2',\n",
      "       'coord-src-0', 'coord-src-1', 'coord-src-2', 'coord-dst-0',\n",
      "       'coord-dst-1', 'coord-dst-2', 'euclidean-distance', 'tortuosity'],\n",
      "      dtype='object')\n",
      "..\\data\\blood vessels\\201007_RECA1_100um.lif - 201007_1395_MCD plac_stack35um_001.tif\n",
      "Index(['skeleton-id', 'node-id-src', 'node-id-dst', 'branch-distance',\n",
      "       'branch-type', 'mean-pixel-value', 'stdev-pixel-value',\n",
      "       'image-coord-src-0', 'image-coord-src-1', 'image-coord-src-2',\n",
      "       'image-coord-dst-0', 'image-coord-dst-1', 'image-coord-dst-2',\n",
      "       'coord-src-0', 'coord-src-1', 'coord-src-2', 'coord-dst-0',\n",
      "       'coord-dst-1', 'coord-dst-2', 'euclidean-distance', 'tortuosity'],\n",
      "      dtype='object')\n",
      "..\\data\\blood vessels\\201007_RECA1_100um.lif - 201007_1395_MCD plac_stack35um_002.tif\n",
      "Index(['skeleton-id', 'node-id-src', 'node-id-dst', 'branch-distance',\n",
      "       'branch-type', 'mean-pixel-value', 'stdev-pixel-value',\n",
      "       'image-coord-src-0', 'image-coord-src-1', 'image-coord-src-2',\n",
      "       'image-coord-dst-0', 'image-coord-dst-1', 'image-coord-dst-2',\n",
      "       'coord-src-0', 'coord-src-1', 'coord-src-2', 'coord-dst-0',\n",
      "       'coord-dst-1', 'coord-dst-2', 'euclidean-distance', 'tortuosity'],\n",
      "      dtype='object')\n",
      "..\\data\\blood vessels\\201007_RECA1_100um.lif - 201007_1395_MCD plac_stack35um_003.tif\n",
      "Index(['skeleton-id', 'node-id-src', 'node-id-dst', 'branch-distance',\n",
      "       'branch-type', 'mean-pixel-value', 'stdev-pixel-value',\n",
      "       'image-coord-src-0', 'image-coord-src-1', 'image-coord-src-2',\n",
      "       'image-coord-dst-0', 'image-coord-dst-1', 'image-coord-dst-2',\n",
      "       'coord-src-0', 'coord-src-1', 'coord-src-2', 'coord-dst-0',\n",
      "       'coord-dst-1', 'coord-dst-2', 'euclidean-distance', 'tortuosity'],\n",
      "      dtype='object')\n"
     ]
    },
    {
     "ename": "IndexError",
     "evalue": "index 9 is out of bounds for axis 0 with size 9",
     "output_type": "error",
     "traceback": [
      "\u001b[1;31m---------------------------------------------------------------------------\u001b[0m",
      "\u001b[1;31mIndexError\u001b[0m                                Traceback (most recent call last)",
      "\u001b[1;32m<ipython-input-83-6dc4405adb31>\u001b[0m in \u001b[0;36m<module>\u001b[1;34m\u001b[0m\n\u001b[1;32m----> 1\u001b[1;33m \u001b[0mprocess_folder\u001b[0m\u001b[1;33m(\u001b[0m\u001b[0mpath\u001b[0m\u001b[1;33m)\u001b[0m\u001b[1;33m\u001b[0m\u001b[1;33m\u001b[0m\u001b[0m\n\u001b[0m",
      "\u001b[1;32m~\\Universiteit Antwerpen\\3D Analysis - General\\src\\vessels.py\u001b[0m in \u001b[0;36mprocess_folder\u001b[1;34m(path)\u001b[0m\n\u001b[0;32m     31\u001b[0m     \u001b[0mall_df\u001b[0m\u001b[1;33m.\u001b[0m\u001b[0mto_excel\u001b[0m\u001b[1;33m(\u001b[0m\u001b[0mxls_fn\u001b[0m\u001b[1;33m)\u001b[0m\u001b[1;33m\u001b[0m\u001b[1;33m\u001b[0m\u001b[0m\n\u001b[0;32m     32\u001b[0m \u001b[1;33m\u001b[0m\u001b[0m\n\u001b[1;32m---> 33\u001b[1;33m     \u001b[0msummary_figure\u001b[0m\u001b[1;33m(\u001b[0m\u001b[0mall_df\u001b[0m\u001b[1;33m)\u001b[0m\u001b[1;33m\u001b[0m\u001b[1;33m\u001b[0m\u001b[0m\n\u001b[0m\u001b[0;32m     34\u001b[0m \u001b[1;33m\u001b[0m\u001b[0m\n\u001b[0;32m     35\u001b[0m \u001b[1;32mdef\u001b[0m \u001b[0msave_dataset\u001b[0m\u001b[1;33m(\u001b[0m\u001b[0mfn_in\u001b[0m\u001b[1;33m,\u001b[0m\u001b[0mim\u001b[0m\u001b[1;33m)\u001b[0m\u001b[1;33m:\u001b[0m\u001b[1;33m\u001b[0m\u001b[1;33m\u001b[0m\u001b[0m\n",
      "\u001b[1;32m~\\Universiteit Antwerpen\\3D Analysis - General\\src\\vessels.py\u001b[0m in \u001b[0;36msummary_figure\u001b[1;34m(all_df)\u001b[0m\n\u001b[0;32m    224\u001b[0m     \u001b[0mlabels\u001b[0m \u001b[1;33m=\u001b[0m \u001b[1;33m[\u001b[0m\u001b[1;34m\"ctrl\"\u001b[0m\u001b[1;33m,\u001b[0m\u001b[1;34m\"ctrl\"\u001b[0m\u001b[1;33m,\u001b[0m\u001b[1;34m\"ctrl\"\u001b[0m\u001b[1;33m,\u001b[0m\u001b[1;34m\"MCD\"\u001b[0m\u001b[1;33m,\u001b[0m\u001b[1;34m\"MCD\"\u001b[0m\u001b[1;33m,\u001b[0m\u001b[1;34m\"MCD\"\u001b[0m\u001b[1;33m]\u001b[0m\u001b[1;33m\u001b[0m\u001b[1;33m\u001b[0m\u001b[0m\n\u001b[0;32m    225\u001b[0m     \u001b[1;32mfor\u001b[0m \u001b[0mn\u001b[0m\u001b[1;33m,\u001b[0m\u001b[0mcol\u001b[0m \u001b[1;32min\u001b[0m \u001b[0menumerate\u001b[0m\u001b[1;33m(\u001b[0m\u001b[0mcolumns\u001b[0m\u001b[1;33m)\u001b[0m\u001b[1;33m:\u001b[0m\u001b[1;33m\u001b[0m\u001b[1;33m\u001b[0m\u001b[0m\n\u001b[1;32m--> 226\u001b[1;33m         \u001b[0max\u001b[0m \u001b[1;33m=\u001b[0m \u001b[0maxs\u001b[0m\u001b[1;33m.\u001b[0m\u001b[0mravel\u001b[0m\u001b[1;33m(\u001b[0m\u001b[1;33m)\u001b[0m\u001b[1;33m[\u001b[0m\u001b[0mn\u001b[0m\u001b[1;33m]\u001b[0m\u001b[1;33m\u001b[0m\u001b[1;33m\u001b[0m\u001b[0m\n\u001b[0m\u001b[0;32m    227\u001b[0m         \u001b[0mx\u001b[0m \u001b[1;33m=\u001b[0m \u001b[0mnp\u001b[0m\u001b[1;33m.\u001b[0m\u001b[0marray\u001b[0m\u001b[1;33m(\u001b[0m\u001b[0mrange\u001b[0m\u001b[1;33m(\u001b[0m\u001b[0mlen\u001b[0m\u001b[1;33m(\u001b[0m\u001b[0mall_df\u001b[0m\u001b[1;33m)\u001b[0m\u001b[1;33m)\u001b[0m\u001b[1;33m)\u001b[0m\u001b[1;33m\u001b[0m\u001b[1;33m\u001b[0m\u001b[0m\n\u001b[0;32m    228\u001b[0m         \u001b[0my\u001b[0m \u001b[1;33m=\u001b[0m \u001b[0mnp\u001b[0m\u001b[1;33m.\u001b[0m\u001b[0marray\u001b[0m\u001b[1;33m(\u001b[0m\u001b[0mall_df\u001b[0m\u001b[1;33m[\u001b[0m\u001b[0mcol\u001b[0m\u001b[1;33m]\u001b[0m\u001b[1;33m)\u001b[0m\u001b[1;33m\u001b[0m\u001b[1;33m\u001b[0m\u001b[0m\n",
      "\u001b[1;31mIndexError\u001b[0m: index 9 is out of bounds for axis 0 with size 9"
     ]
    }
   ],
   "source": [
    "process_folder(path)"
   ]
  },
  {
   "cell_type": "code",
   "execution_count": null,
   "metadata": {},
   "outputs": [],
   "source": [
    "plt.close(\"all\")"
   ]
  },
  {
   "cell_type": "code",
   "execution_count": 69,
   "metadata": {},
   "outputs": [
    {
     "ename": "NameError",
     "evalue": "name 'skel' is not defined",
     "output_type": "error",
     "traceback": [
      "\u001b[1;31m---------------------------------------------------------------------------\u001b[0m",
      "\u001b[1;31mNameError\u001b[0m                                 Traceback (most recent call last)",
      "\u001b[1;32m<ipython-input-69-cd4666a45640>\u001b[0m in \u001b[0;36m<module>\u001b[1;34m\u001b[0m\n\u001b[0;32m      2\u001b[0m \u001b[0mfn_out\u001b[0m \u001b[1;33m=\u001b[0m \u001b[0mfn_out\u001b[0m \u001b[1;33m+\u001b[0m \u001b[1;34m\"_spin.mp4\"\u001b[0m\u001b[1;33m\u001b[0m\u001b[1;33m\u001b[0m\u001b[0m\n\u001b[0;32m      3\u001b[0m \u001b[1;33m\u001b[0m\u001b[0m\n\u001b[1;32m----> 4\u001b[1;33m \u001b[0mimz\u001b[0m \u001b[1;33m=\u001b[0m \u001b[0mskel\u001b[0m\u001b[1;33m.\u001b[0m\u001b[0mtranspose\u001b[0m\u001b[1;33m(\u001b[0m\u001b[1;36m0\u001b[0m\u001b[1;33m,\u001b[0m\u001b[1;36m1\u001b[0m\u001b[1;33m,\u001b[0m\u001b[1;36m2\u001b[0m\u001b[1;33m)\u001b[0m\u001b[1;33m\u001b[0m\u001b[1;33m\u001b[0m\u001b[0m\n\u001b[0m\u001b[0;32m      5\u001b[0m \u001b[0mfr\u001b[0m \u001b[1;33m=\u001b[0m \u001b[0mcollect_spin_frames\u001b[0m\u001b[1;33m(\u001b[0m\u001b[0mimz\u001b[0m\u001b[1;33m,\u001b[0m \u001b[0mn_t\u001b[0m\u001b[1;33m=\u001b[0m\u001b[1;36m20\u001b[0m\u001b[1;33m,\u001b[0m \u001b[0mxy_res\u001b[0m\u001b[1;33m=\u001b[0m\u001b[1;36m200\u001b[0m\u001b[1;33m)\u001b[0m\u001b[1;33m\u001b[0m\u001b[1;33m\u001b[0m\u001b[0m\n\u001b[0;32m      6\u001b[0m \u001b[0mc_fr\u001b[0m \u001b[1;33m=\u001b[0m \u001b[0mcolorize_frames\u001b[0m\u001b[1;33m(\u001b[0m\u001b[0mfr\u001b[0m\u001b[1;33m)\u001b[0m\u001b[1;33m\u001b[0m\u001b[1;33m\u001b[0m\u001b[0m\n",
      "\u001b[1;31mNameError\u001b[0m: name 'skel' is not defined"
     ]
    }
   ],
   "source": [
    "fn_out = out_name(fn)\n",
    "fn_out = fn_out + \"_spin.mp4\"\n",
    "\n",
    "imz = skel.transpose(0,1,2)\n",
    "fr = collect_spin_frames(imz, n_t=20, xy_res=200)\n",
    "c_fr = colorize_frames(fr)\n",
    "render_frames( fn_out, c_fr[0], FPS=5 )"
   ]
  },
  {
   "cell_type": "code",
   "execution_count": null,
   "metadata": {},
   "outputs": [],
   "source": []
  },
  {
   "cell_type": "code",
   "execution_count": 15,
   "metadata": {},
   "outputs": [
    {
     "name": "stdout",
     "output_type": "stream",
     "text": [
      "..\\data\\blood vessels\\201007_RECA1_100um.lif - 201007_1391_ctrl plac_stack35um_001.tif\n",
      "(3, 3)\n"
     ]
    }
   ],
   "source": [
    "%lprun -f analyze_BV analyze_BV(fns[0])"
   ]
  },
  {
   "cell_type": "code",
   "execution_count": 59,
   "metadata": {},
   "outputs": [],
   "source": [
    "%lprun -f analyze_BV analyze_BV(fn)"
   ]
  },
  {
   "cell_type": "code",
   "execution_count": 80,
   "metadata": {},
   "outputs": [
    {
     "name": "stdout",
     "output_type": "stream",
     "text": [
      "Variable                    Type           Data/Info\n",
      "----------------------------------------------------\n",
      "all_df                      DataFrame         N_Segments  N_Endpoint<...>01007_1395_MCD plac_...  \n",
      "analyze_BV                  function       <function analyze_BV at 0x000001403E612288>\n",
      "area_filter                 function       <function area_filter at 0x000001403E612438>\n",
      "ax                          AxesSubplot    AxesSubplot(0.672059,0.11;0.227941x0.226471)\n",
      "axs                         ndarray        3x3: 9 elems, type `object`, 72 bytes\n",
      "col                         str            Vessel_Solidity\n",
      "collect_spin_frames         function       <function collect_spin_fr<...>es at 0x000001403E6129D8>\n",
      "colorize_frames             function       <function colorize_frames at 0x000001403E612CA8>\n",
      "columns                     Index          Index(['N_Segments', 'N_E<...>],\\n      dtype='object')\n",
      "cv2                         module         <module 'cv2.cv2' from 'C<...>\\cv2.cp37-win_amd64.pyd'>\n",
      "data_out                    list           n=6\n",
      "df_vessel                   DataFrame         N_Segments  N_Endpoint<...>01007_1395_MCD plac_...  \n",
      "draw_panels                 function       <function draw_panels at 0x000001403E612948>\n",
      "fig                         Figure         Figure(1800x1192)\n",
      "fn                          str            ..\\data\\blood vessels\\201<...>CD plac_stack35um_003.tif\n",
      "fn_out                      str            ..\\data\\blood vessels\\Out<...>ac_stack35um_003_spin.mp4\n",
      "fns                         list           n=6\n",
      "gaussian                    function       <function gaussian at 0x00000140387CCB88>\n",
      "glob                        module         <module 'glob' from 'C:\\\\<...>anaconda3\\\\lib\\\\glob.py'>\n",
      "h5py                        module         <module 'h5py' from 'C:\\\\<...>ages\\\\h5py\\\\__init__.py'>\n",
      "interpn                     function       <function interpn at 0x000001403740AAF8>\n",
      "io                          module         <module 'skimage.io' from<...>kimage\\\\io\\\\__init__.py'>\n",
      "labels                      list           n=6\n",
      "measure_vessel              function       <function measure_vessel at 0x000001403E6123A8>\n",
      "merge_channels              function       <function merge_channels at 0x000001403E612C18>\n",
      "morphology                  module         <module 'skimage.morpholo<...>morphology\\\\__init__.py'>\n",
      "n                           int            8\n",
      "ndi                         module         <module 'scipy.ndimage' f<...>y\\\\ndimage\\\\__init__.py'>\n",
      "np                          module         <module 'numpy' from 'C:\\<...>ges\\\\numpy\\\\__init__.py'>\n",
      "os                          module         <module 'os' from 'C:\\\\Us<...>\\\\anaconda3\\\\lib\\\\os.py'>\n",
      "out_name                    function       <function out_name at 0x000001403E612798>\n",
      "path                        str            ..\\data\\blood vessels\\\n",
      "pd                          module         <module 'pandas' from 'C:<...>es\\\\pandas\\\\__init__.py'>\n",
      "plt                         module         <module 'matplotlib.pyplo<...>\\\\matplotlib\\\\pyplot.py'>\n",
      "print_vessel_measurements   function       <function print_vessel_me<...>ts at 0x000001403E612678>\n",
      "process_folder              function       <function process_folder at 0x0000014041CD93A8>\n",
      "proj_2D                     function       <function proj_2D at 0x000001403E612A68>\n",
      "q_points                    function       <function q_points at 0x000001403E612B88>\n",
      "read_data                   function       <function read_data at 0x000001403E6124C8>\n",
      "read_data_BV                function       <function read_data_BV at 0x000001403E612558>\n",
      "render_frames               function       <function render_frames at 0x000001403E612D38>\n",
      "save_h5                     function       <function save_h5 at 0x000001403E6125E8>\n",
      "segment_BV                  function       <function segment_BV at 0x000001403E612318>\n",
      "skan                        module         <module 'skan' from 'C:\\\\<...>ages\\\\skan\\\\__init__.py'>\n",
      "summary_figure              function       <function summary_figure at 0x000001403E612708>\n",
      "write_figure                function       <function write_figure at 0x000001403E612828>\n",
      "x                           ndarray        6: 6 elems, type `int32`, 24 bytes\n",
      "x_points                    function       <function x_points at 0x000001403E612AF8>\n",
      "xls_fn                      str            ..\\data\\blood vessels\\\\Output\\Summary_data.xls\n",
      "y                           ndarray        6: 6 elems, type `float64`, 48 bytes\n",
      "zxz_frames                  function       <function zxz_frames at 0x000001403E6128B8>\n"
     ]
    }
   ],
   "source": [
    "whos"
   ]
  },
  {
   "cell_type": "code",
   "execution_count": 301,
   "metadata": {},
   "outputs": [],
   "source": [
    "pts = np.array(pts)\n",
    "lines = pts[pts[:,4]==2]\n",
    "for pt in lines:\n",
    "    plt.plot(pt[[0,2]],pt[[1,3]],\"o-\")"
   ]
  }
 ],
 "metadata": {
  "kernelspec": {
   "display_name": "Python 3",
   "language": "python",
   "name": "python3"
  },
  "language_info": {
   "codemirror_mode": {
    "name": "ipython",
    "version": 3
   },
   "file_extension": ".py",
   "mimetype": "text/x-python",
   "name": "python",
   "nbconvert_exporter": "python",
   "pygments_lexer": "ipython3",
   "version": "3.7.6"
  }
 },
 "nbformat": 4,
 "nbformat_minor": 4
}
